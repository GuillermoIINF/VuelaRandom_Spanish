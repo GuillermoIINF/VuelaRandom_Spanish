{
 "cells": [
  {
   "cell_type": "markdown",
   "metadata": {},
   "source": [
    "# Fase 0: <i>Recopilación de datos</i>\n",
    "## <b>Obtención de los vuelos y precios de <i>vuelosbaratos.es</i></b>\n",
    "\n",
    "&emsp;&emsp;Con este archivo se procede a recopilar la información de los vuelos y precios de la página <b>vuelosbaratos.es</b>."
   ]
  },
  {
   "cell_type": "code",
   "execution_count": 1,
   "metadata": {},
   "outputs": [],
   "source": [
    "import pandas as pd\n",
    "from time import *\n",
    "from datetime import *\n",
    "import requests\n",
    "import random\n",
    "from random import randint\n",
    "from bs4 import BeautifulSoup\n",
    "from selenium import webdriver\n",
    "import shutil\n",
    "from random import randint\n",
    "import html\n",
    "from os import *\n",
    "import locale\n",
    "locale.setlocale(locale.LC_TIME, '')\n",
    "rutas = \"../../data/rutasIniciales.csv\"\n",
    "vuelos_data = \"../../data/Datos/data_vuelosbaratos.csv\""
   ]
  },
  {
   "cell_type": "code",
   "execution_count": 2,
   "metadata": {},
   "outputs": [
    {
     "ename": "NameError",
     "evalue": "name 'listaRutas' is not defined",
     "output_type": "error",
     "traceback": [
      "\u001b[1;31m---------------------------------------------------------------------------\u001b[0m",
      "\u001b[1;31mNameError\u001b[0m                                 Traceback (most recent call last)",
      "\u001b[1;32m<ipython-input-2-ba8c64458a22>\u001b[0m in \u001b[0;36m<module>\u001b[1;34m\u001b[0m\n\u001b[1;32m----> 1\u001b[1;33m \u001b[0mlistaRutas\u001b[0m\u001b[1;33m[\u001b[0m\u001b[1;36m0\u001b[0m\u001b[1;33m]\u001b[0m\u001b[1;33m\u001b[0m\u001b[1;33m\u001b[0m\u001b[0m\n\u001b[0m\u001b[0;32m      2\u001b[0m \u001b[0mindice\u001b[0m \u001b[1;33m=\u001b[0m \u001b[1;36m0\u001b[0m\u001b[1;33m\u001b[0m\u001b[1;33m\u001b[0m\u001b[0m\n\u001b[0;32m      3\u001b[0m \u001b[1;32mfor\u001b[0m \u001b[0mi\u001b[0m \u001b[1;32min\u001b[0m \u001b[0mrange\u001b[0m\u001b[1;33m(\u001b[0m\u001b[0mlen\u001b[0m\u001b[1;33m(\u001b[0m\u001b[0mlistaRutas\u001b[0m\u001b[1;33m)\u001b[0m\u001b[1;33m)\u001b[0m\u001b[1;33m:\u001b[0m\u001b[1;33m\u001b[0m\u001b[1;33m\u001b[0m\u001b[0m\n\u001b[0;32m      4\u001b[0m     \u001b[1;32mif\u001b[0m \u001b[0mlistaRutas\u001b[0m\u001b[1;33m[\u001b[0m\u001b[0mi\u001b[0m\u001b[1;33m]\u001b[0m\u001b[1;33m[\u001b[0m\u001b[1;36m0\u001b[0m\u001b[1;33m]\u001b[0m \u001b[1;33m==\u001b[0m \u001b[1;34m'MAD'\u001b[0m\u001b[1;33m:\u001b[0m\u001b[1;33m\u001b[0m\u001b[1;33m\u001b[0m\u001b[0m\n\u001b[0;32m      5\u001b[0m         \u001b[0mindice\u001b[0m \u001b[1;33m+=\u001b[0m\u001b[1;36m1\u001b[0m\u001b[1;33m\u001b[0m\u001b[1;33m\u001b[0m\u001b[0m\n",
      "\u001b[1;31mNameError\u001b[0m: name 'listaRutas' is not defined"
     ]
    }
   ],
   "source": [
    "listaRutas[0]\n",
    "indice = 0\n",
    "for i in range(len(listaRutas)):\n",
    "    if listaRutas[i][0] == 'MAD':\n",
    "        indice +=1\n",
    "print (indice)"
   ]
  },
  {
   "cell_type": "code",
   "execution_count": null,
   "metadata": {},
   "outputs": [],
   "source": [
    "listaRutas[0][0]"
   ]
  },
  {
   "cell_type": "markdown",
   "metadata": {},
   "source": [
    "&emsp;&emsp;En primer lugar, obtenemos una lista con todas las rutas únicas (una ruta puede aparecer más de una vez al ser de diferentes compañías aéreas)"
   ]
  },
  {
   "cell_type": "code",
   "execution_count": 3,
   "metadata": {},
   "outputs": [
    {
     "name": "stdout",
     "output_type": "stream",
     "text": [
      "longitud origenes: 721\n",
      "longitud setRutas\n"
     ]
    },
    {
     "data": {
      "text/plain": [
       "(None, 321)"
      ]
     },
     "execution_count": 3,
     "metadata": {},
     "output_type": "execute_result"
    }
   ],
   "source": [
    "dfRutas = pd.read_csv(rutas)\n",
    "dfRutas = dfRutas.sort_values([\"Source Airport\", \"Destination Airport\"])\n",
    "origenes = dfRutas[\"Source Airport\"].values\n",
    "destinos = dfRutas[\"Destination Airport\"].values\n",
    "setRutas = set()\n",
    "print(\"longitud origenes:\", len(origenes))\n",
    "for x,y in zip(origenes,destinos):\n",
    "    ruta = x,y\n",
    "    setRutas.add(ruta)\n",
    "listaRutas = list(setRutas)\n",
    "print(\"longitud setRutas\"), len(setRutas)"
   ]
  },
  {
   "cell_type": "markdown",
   "metadata": {},
   "source": [
    "<table>\n",
    "    <tr><td><b>Función:</b></td><td><i>getDetalle</i></td></tr>\n",
    "    <tr><td><b>Entrada:</b></td><td><i>vuelo</i> Datos del vuelo recopilados en la página web</td></tr>\n",
    "    <tr>\n",
    "        <td><b>Salida:</b></td>\n",
    "        <td style=\" text-align:left;\">\n",
    "            <table style=\"width:100%\">\n",
    "                <tr>\n",
    "                    <td style=\"width:15%\"><b>salida_ida</b></td>\n",
    "                    <td>Fecha y hora de salida del vuelo de ida</td>\n",
    "                </tr>\n",
    "                <tr>\n",
    "                    <td><b>llegada_ida</b></td>\n",
    "                    <td>Fecha y hora de llegada del vuelo de ida</td>\n",
    "                </tr>\n",
    "                <tr>\n",
    "                    <td><b>aerolinea</b></td>\n",
    "                    <td>Compañía aérea que realiza el vuelo</td>\n",
    "                </tr>\n",
    "                <tr>\n",
    "                    <td><b>salida_vuelta</b></td>\n",
    "                    <td>Fecha y hora de salida del vuelo de vuelta</td>\n",
    "                </tr>\n",
    "                <tr>\n",
    "                    <td><b>llegada_vuelta</b></td>\n",
    "                    <td>Fecha y hora de llegada del vuelo de vuelta</td>\n",
    "                </tr>\n",
    "            </table>\n",
    "        </td>\n",
    "    </tr>\n",
    "    <tr>\n",
    "        <td><b>Descripción:</b></td>\n",
    "        <td>Recibe el texto HTML de un vuelo y lo procesa para devolver la fecha y hora de los vuelos de ida y de vuelta así como la compañía aérea que realiza el vuelo</td>\n",
    "    </tr>"
   ]
  },
  {
   "cell_type": "code",
   "execution_count": null,
   "metadata": {},
   "outputs": [],
   "source": [
    "def getDetalle(vuelo):\n",
    "    salida_ida = \"\"\n",
    "    llegada_ida = \"\"\n",
    "    salida_vuelta = \"\"\n",
    "    llegada_vuelta = \"\"\n",
    "    aerolinea=\"\" \n",
    "    aux = vuelo.find('table', class_='tblDetails')\n",
    "    listaFilas = aux.find_all('tr')\n",
    "    #En la primer fila de la tabla aparece la hora de salida y la hora de llegada del vuelo de ida y la aerolínea\n",
    "    listaColumnas = listaFilas[0].find_all('td')\n",
    "    salida_ida = datetime.strptime(listaColumnas[1].find('span', class_='groupDate').text, '%d %b %Y, %H:%M').strftime('%Y-%m-%d %H:%M')\n",
    "    llegada_ida = datetime.strptime(listaColumnas[2].find('span', class_='groupDate').text, '%d %b %Y, %H:%M').strftime('%Y-%m-%d %H:%M')\n",
    "    aerolinea = listaColumnas[4].find('img', class_= 'tail1')['alt']\n",
    "    \n",
    "    #En la segunda fila de la tabla aparece la hora de salida y la hora de llegada del vuelo de vuelta\n",
    "    listaColumnas = listaFilas[1].find_all('td')\n",
    "    salida_vuelta = datetime.strptime(listaColumnas[1].find('span', class_='groupDate').text, '%d %b %Y, %H:%M').strftime('%Y-%m-%d %H:%M')\n",
    "    llegada_vuelta = datetime.strptime(listaColumnas[2].find('span', class_='groupDate').text, '%d %b %Y, %H:%M').strftime('%Y-%m-%d %H:%M')\n",
    "    \n",
    "    return salida_ida, llegada_ida, aerolinea, salida_vuelta, llegada_vuelta"
   ]
  },
  {
   "cell_type": "markdown",
   "metadata": {},
   "source": [
    "<table>\n",
    "    <tr><td><b>Función:</b></td><td>procesaEnlace</td></tr>\n",
    "    <tr>\n",
    "        <td><b>Entrada:</b></td>\n",
    "        <td>\n",
    "            <table style='width:100%'>\n",
    "                <tr>\n",
    "                    <td style=\"width:15%\"><b>empresa:</b></td>\n",
    "                    <td> Nombre de la empresa que comercializa el billete</td>\n",
    "                </tr>\n",
    "                <tr>\n",
    "                    <td><b>enlace</b></td>\n",
    "                    <td>Enlace completo</td>\n",
    "                </tr>\n",
    "            </table>\n",
    "        </td>\n",
    "    </tr>\n",
    "    <tr>\n",
    "        <td><b>Salida:</b></td>\n",
    "        <td>URL procesada</td>\n",
    "    </tr>\n",
    "    <tr>\n",
    "        <td><b>Descripción:</b></td>\n",
    "        <td>Reemplaza la codificación de la URL real en donde se vende realmente el billete para aquellas URLs que funcionan (en función de la empresa que lo venda) y devuelve el enlace listo para ser clickado</td>\n",
    "    </tr>\n",
    "</table>"
   ]
  },
  {
   "cell_type": "code",
   "execution_count": null,
   "metadata": {},
   "outputs": [],
   "source": [
    "def procesaEnlace(empresa,enlace):\n",
    "    respuesta = \"\"\n",
    "    url = \"\"\n",
    "    if empresa not in [\"AirFrance\",\"KLM\",\"Ryanair\"]:\n",
    "        pos= enlace.find(\"url\")\n",
    "        respuesta = enlace[pos+4:]\n",
    "        respuesta = respuesta.replace ('%21','!').replace ('%23','#').replace ('%24','$').replace ('%26','&').replace ('%27',\"'\").replace ('%28','(').replace ('%29',')').replace ('%2A','*').replace ('%2B', '+').replace ('%2C', ',').replace ('%2F','/').replace ('%3A',':').replace ('%3B',';').replace ('%3D','=').replace ('%3F','?').replace ('%40','@').replace ('%5B','[').replace ('%5D',']')\n",
    "    return respuesta"
   ]
  },
  {
   "cell_type": "markdown",
   "metadata": {},
   "source": [
    "&emsp;&emsp;Datos de búsqueda de vuelos (fecha de inicio de la búsqueda, número de rutas que se deben procesar para informar del progreso al usuario y número de días que se van a procesar)"
   ]
  },
  {
   "cell_type": "code",
   "execution_count": null,
   "metadata": {},
   "outputs": [],
   "source": [
    "incrementoDia = timedelta(days=1)\n",
    "incrementoVuelta = timedelta(days=7)\n",
    "fecha = datetime(2020,12,29)\n",
    "fechaVuelta = fecha + incrementoVuelta\n",
    "totalRutas = 321\n",
    "diasProcesar = 2"
   ]
  },
  {
   "cell_type": "markdown",
   "metadata": {},
   "source": [
    "&emsp;&emsp;En la siguiente celda se procede a realizar la ejecución completa del webscraping, formateando las fechas para crear correctamente la URL a consultar, abriendo el navegador en modo incógnito y controlando los posibles errores que se pudieran producir para evitar que se interrumpa la obtención de los datos por ralentización en el flujo de la aplicación o por la aparición de cookies"
   ]
  },
  {
   "cell_type": "code",
   "execution_count": null,
   "metadata": {},
   "outputs": [],
   "source": [
    "%%time\n",
    "\n",
    "textoFecha = fecha.strftime(\"%Y-%#m-%#d\")\n",
    "textoFechaVuelta = fechaVuelta.strftime(\"%Y-%#m-%#d\")\n",
    "chrome_driver = \"chromedriver.exe\"\n",
    "\n",
    "#Opción para abrir Chrome en modo incógnito\n",
    "chrome_options = webdriver.ChromeOptions()\n",
    "chrome_options.add_argument(\"--incognito\")\n",
    "navegador = webdriver.Chrome(executable_path=chrome_driver,options=chrome_options)\n",
    "\n",
    "numErrores = 0\n",
    "for dia in range(diasProcesar): #Obtiene los datos para cada día\n",
    "    dfVuelos = pd.DataFrame(columns=['CAPTURA','FUENTE','ORIGEN', 'DESTINO', 'SALIDA_IDA', 'LLEGADA_IDA', 'SALIDA_VUELTA', 'LLEGADA_VUELTA', 'PRECIO', \"URL\", \"AEROLINEA\"])\n",
    "    numeroRuta = 0\n",
    "    #Recorre todas las rutas encontradas\n",
    "    for ruta in listaRutas:\n",
    "        error = True\n",
    "        numeroRuta += 1\n",
    "        origen = ruta[0]\n",
    "        destino = ruta[1]\n",
    "        print(datetime.now().strftime(\"%H:%M:%S\"),\" ==> Procesando ruta nº \" + str(numeroRuta) + \" de \" + str(totalRutas) + \" RUTA:\", origen,\"-\",destino, \"Para el día\", textoFecha)\n",
    "        url = \"https://www.vuelosbaratos.es/Buscar/\" + origen + \"-\" + destino + \"/\" + textoFecha + '/' + textoFechaVuelta + \"/ES/\"\n",
    "        navegador.implicitly_wait(20)\n",
    "        while error:\n",
    "            try:\n",
    "                navegador.get(url)\n",
    "                sleep(randint(4,8))\n",
    "                source = navegador.page_source\n",
    "                soup = BeautifulSoup(source).body\n",
    "                #Obtengo la paginación y la limitamos a 5 páginas de vuelos más baratos\n",
    "                numPaginas = 5\n",
    "                numPag = len(soup.find_all('a', class_='ChangePage'))\n",
    "                if numPag == 0:\n",
    "                    error = False\n",
    "                elif numPag < numPaginas:\n",
    "                    numPaginas = numPag\n",
    "                for numero in range(numPaginas):\n",
    "                    #Obtengo la información de los vuelos\n",
    "                    listaVuelos = soup.find_all('div', class_='boxBody')\n",
    "                    for vuelo in listaVuelos:\n",
    "                        precio = vuelo.find('span', class_='priceBig').text\n",
    "                        enlace = html.unescape(vuelo.find('a', class_=\"operatorName\")[\"href\"])\n",
    "                        empresa = vuelo.find('a', class_=\"operatorName\").getText()\n",
    "                        enlaceCompra = procesaEnlace(empresa,enlace)\n",
    "                        if len(enlaceCompra.strip())>0:\n",
    "                            salida_ida, llegada_ida, aerolinea, salida_vuelta, llegada_vuelta = getDetalle(vuelo)\n",
    "\n",
    "                            #Añado el vuelo a mi DataFrame\n",
    "                            dfVuelos = dfVuelos.append({\"CAPTURA\":datetime.now().strftime(\"%Y-%m-%d\"),'FUENTE':'vuelosbaratos',\"ORIGEN\":origen, \"DESTINO\":destino, \"SALIDA_IDA\":salida_ida, \"LLEGADA_IDA\": llegada_ida, \"SALIDA_VUELTA\": salida_vuelta, \"LLEGADA_VUELTA\": llegada_vuelta, 'URL':enlaceCompra, 'AEROLINEA':aerolinea, 'PRECIO':precio} ,ignore_index=True)\n",
    "\n",
    "                    #Accedo a la siguiente página\n",
    "                    navegador.find_element_by_class_name('ChangePageNext').click()\n",
    "                    sleep(randint(1,4))\n",
    "                    source = navegador.page_source\n",
    "                    soup = BeautifulSoup(source).body\n",
    "                    numErrores = 0\n",
    "                    error = False\n",
    "            except Exception as inst:\n",
    "                print(datetime.now().strftime(\"%H:%M:%S\"),\" ==>          ERROR al intentar descargar la página. Error número \" + str(numErrores))\n",
    "                print(inst)\n",
    "                numErrores += 1\n",
    "                if numErrores > 19:\n",
    "                    print(datetime.now().strftime(\"%H:%M:%S\"),\" ==> ERROR SE HA SUPERADO EL NÚMERO MÁXIMO DE ERRORES\")\n",
    "                    break\n",
    "                sleep(10)\n",
    "    #Incremento el día\n",
    "    fecha = fecha + incrementoDia\n",
    "    fechaVuelta = fecha + incrementoVuelta\n",
    "    textoFecha = fecha.strftime(\"%Y-%#m-%#d\")\n",
    "    textoFechaVuelta = fechaVuelta.strftime(\"%Y-%#m-%#d\")\n",
    "    if path.exists(vuelos_data):\n",
    "        dfVuelos.to_csv(vuelos_data, mode='a', header=False)\n",
    "    else:\n",
    "        dfVuelos.to_csv(vuelos_data)\n",
    "navegador.quit()\n",
    "dfVuelos"
   ]
  },
  {
   "cell_type": "code",
   "execution_count": null,
   "metadata": {},
   "outputs": [],
   "source": []
  }
 ],
 "metadata": {
  "kernelspec": {
   "display_name": "Python 3",
   "language": "python",
   "name": "python3"
  },
  "language_info": {
   "codemirror_mode": {
    "name": "ipython",
    "version": 3
   },
   "file_extension": ".py",
   "mimetype": "text/x-python",
   "name": "python",
   "nbconvert_exporter": "python",
   "pygments_lexer": "ipython3",
   "version": "3.8.3"
  }
 },
 "nbformat": 4,
 "nbformat_minor": 4
}
