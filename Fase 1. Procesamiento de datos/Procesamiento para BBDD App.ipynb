{
 "cells": [
  {
   "cell_type": "markdown",
   "metadata": {},
   "source": [
    "# **FASE 0: Exploración y limpieza de los datos**"
   ]
  },
  {
   "cell_type": "markdown",
   "metadata": {},
   "source": [
    "**IMPORTACIÓN DE LIBRERIAS NECESARIAS PARA ESTA PRIMERA FASE**"
   ]
  },
  {
   "cell_type": "code",
   "execution_count": 1,
   "metadata": {},
   "outputs": [],
   "source": [
    "import pandas as pd\n",
    "import numpy as np\n",
    "import datetime \n",
    "import time "
   ]
  },
  {
   "cell_type": "markdown",
   "metadata": {},
   "source": [
    "**1. CARGA DE LOS DATOS**"
   ]
  },
  {
   "cell_type": "markdown",
   "metadata": {},
   "source": [
    "A continuación se cargan los seis dataframes de datos de vuelos para los proximos 3 meses, en la ruta relativa \"../data\", donde estan contenidas tanto las variables categoricas como numericas."
   ]
  },
  {
   "cell_type": "code",
   "execution_count": 2,
   "metadata": {},
   "outputs": [],
   "source": [
    "df_ryanair = pd.read_csv(\"../../data/data_ryanair.csv\")\n",
    "df_vbaratos = pd.read_csv(\"../../data/data_vuelosbaratos.csv\", dtype={'PRECIO': object})\n",
    "df_vbaratos1 = pd.read_csv(\"../../data/data_vuelosbaratosPortatil.csv\", dtype={'PRECIO': object})\n",
    "df_vbaratos2 = pd.read_csv(\"../../data/data_vuelosbaratosSobremesa.csv\", dtype={'PRECIO': object})\n",
    "df_vbaratos3 = pd.read_csv(\"../../data/data_vuelosbaratos1.csv\", dtype={'PRECIO': object})\n",
    "df_vbaratos4 = pd.read_csv(\"../../data/data_vuelosbaratos_Sobremesa.csv\", dtype={'PRECIO': object})"
   ]
  },
  {
   "cell_type": "markdown",
   "metadata": {},
   "source": [
    "Para poder tratar los datos en conjunto se unifican en un solo dataframe."
   ]
  },
  {
   "cell_type": "code",
   "execution_count": 3,
   "metadata": {},
   "outputs": [],
   "source": [
    "df_vbaratos['PRECIO'] = df_vbaratos['PRECIO'].apply(lambda x: x.replace('.', '').replace(',', '')).astype('float')\n",
    "df_vbaratos1['PRECIO'] = df_vbaratos1['PRECIO'].apply(lambda x: x.replace('.', '').replace(',', '')).astype('float')\n",
    "df_vbaratos2['PRECIO'] = df_vbaratos2['PRECIO'].apply(lambda x: x.replace('.', ',').replace(',', '')).astype('float')\n",
    "df_vbaratos3['PRECIO'] = df_vbaratos3['PRECIO'].apply(lambda x: x.replace('.', '').replace(',', '')).astype('float')\n",
    "df_vbaratos4['PRECIO'] = df_vbaratos4['PRECIO'].apply(lambda x: x.replace('.', '').replace(',', '')).astype('float')"
   ]
  },
  {
   "cell_type": "code",
   "execution_count": 4,
   "metadata": {},
   "outputs": [],
   "source": [
    "df = pd.concat([df_ryanair, df_vbaratos, df_vbaratos1, df_vbaratos2, df_vbaratos3, df_vbaratos4 ])"
   ]
  },
  {
   "cell_type": "code",
   "execution_count": 5,
   "metadata": {},
   "outputs": [
    {
     "data": {
      "text/plain": [
       "114.0     22140\n",
       "125.0     20908\n",
       "122.0     20840\n",
       "120.0     20387\n",
       "116.0     19788\n",
       "          ...  \n",
       "1733.0        1\n",
       "2984.0        1\n",
       "2985.0        1\n",
       "2989.0        1\n",
       "3138.0        1\n",
       "Name: PRECIO, Length: 3407, dtype: int64"
      ]
     },
     "execution_count": 5,
     "metadata": {},
     "output_type": "execute_result"
    }
   ],
   "source": [
    "df['PRECIO'].value_counts()"
   ]
  },
  {
   "cell_type": "markdown",
   "metadata": {},
   "source": [
    "**2. EXPLORACIÓN INICIAL DE LOS DATOS**"
   ]
  },
  {
   "cell_type": "markdown",
   "metadata": {},
   "source": [
    "**Observación de la información**"
   ]
  },
  {
   "cell_type": "code",
   "execution_count": null,
   "metadata": {},
   "outputs": [],
   "source": [
    "#Función de la librería para que muestre todas las columnas\n",
    "pd.options.display.max_columns = None"
   ]
  },
  {
   "cell_type": "code",
   "execution_count": null,
   "metadata": {},
   "outputs": [],
   "source": [
    "df.head()"
   ]
  },
  {
   "cell_type": "code",
   "execution_count": null,
   "metadata": {},
   "outputs": [],
   "source": [
    "#Función para enlistar todas las columnas y poder visualizarlas con mayor facilidad.\n",
    "df.columns.to_list()"
   ]
  },
  {
   "cell_type": "markdown",
   "metadata": {},
   "source": [
    "Tras realizarla la primera observación, se ha llevado a cabo el tratamiento de las columnas SALIDA_IDA, LLEGADA_IDA, SALIDA_VUELTA y LLEGADA_VUELTA. Para un mejor anáisis será conveniente dividir estas columnas en en fechas y horas que indiquen esta iformación por separado."
   ]
  },
  {
   "cell_type": "code",
   "execution_count": 6,
   "metadata": {},
   "outputs": [],
   "source": [
    "#Dividisión de una cadena o string a través de la función split.\n",
    "df[['fecha_salida_ida','hora_salida_ida']] = df.SALIDA_IDA.str.split(expand=True)\n",
    "df[['fecha_llegada_ida','hora_llegada_ida']] = df.LLEGADA_IDA.str.split(expand=True)\n",
    "df[['fecha_salida_vuelta','hora_salida_vuelta']] = df.SALIDA_VUELTA.str.split(expand=True)\n",
    "df[['fecha_llegada_vuelta','hora_llegada_vuelta']] = df.LLEGADA_VUELTA.str.split(expand=True)"
   ]
  },
  {
   "cell_type": "markdown",
   "metadata": {},
   "source": [
    "Como enriquecimiento del dataset se decide agregar una nueva columna con el día de la semana"
   ]
  },
  {
   "cell_type": "code",
   "execution_count": 7,
   "metadata": {},
   "outputs": [],
   "source": [
    "df['dia_semana'] = df['fecha_salida_ida'].apply(lambda x: datetime.datetime.strptime(x, \"%Y-%m-%d\").weekday())"
   ]
  },
  {
   "cell_type": "markdown",
   "metadata": {},
   "source": [
    "Para la aplicación mantenemos las columnas de fecha y hora en su forma original, como string. "
   ]
  },
  {
   "cell_type": "code",
   "execution_count": null,
   "metadata": {},
   "outputs": [],
   "source": [
    "# for i in df.columns[12:-1:2]:\n",
    "#     df[i] = df[i].apply(lambda x: time.mktime(datetime.datetime.strptime(x, \"%Y-%m-%d\").timetuple()))\n",
    "# df['CAPTURA'] = df['CAPTURA'].apply(lambda x: time.mktime(datetime.datetime.strptime(x, \"%Y-%m-%d\").timetuple()))"
   ]
  },
  {
   "cell_type": "code",
   "execution_count": null,
   "metadata": {},
   "outputs": [],
   "source": [
    "# for i in df.columns[13:-1:2]:\n",
    "#     df[i] = pd.to_datetime(df[i],format= '%H:%M' ).dt.time\n",
    "#     df[i] = df[i].apply(lambda x: (x.hour*60+x.minute)*60)"
   ]
  },
  {
   "cell_type": "markdown",
   "metadata": {},
   "source": [
    "**Comprobación de la existencia de valores duplicados:**\n"
   ]
  },
  {
   "cell_type": "markdown",
   "metadata": {},
   "source": [
    "Para asegurar la fiabilidad del dataset, ya que los datos han sido extraidos por varias personas en distintos procesos, se hará un control previo en base a la redundancia de información por registros duplicados. Para ello se eliminan los valores duplicados."
   ]
  },
  {
   "cell_type": "code",
   "execution_count": 8,
   "metadata": {
    "scrolled": true
   },
   "outputs": [
    {
     "name": "stdout",
     "output_type": "stream",
     "text": [
      "(2661808, 21)\n",
      "(2484667, 21)\n"
     ]
    },
    {
     "data": {
      "text/html": [
       "<div>\n",
       "<style scoped>\n",
       "    .dataframe tbody tr th:only-of-type {\n",
       "        vertical-align: middle;\n",
       "    }\n",
       "\n",
       "    .dataframe tbody tr th {\n",
       "        vertical-align: top;\n",
       "    }\n",
       "\n",
       "    .dataframe thead th {\n",
       "        text-align: right;\n",
       "    }\n",
       "</style>\n",
       "<table border=\"1\" class=\"dataframe\">\n",
       "  <thead>\n",
       "    <tr style=\"text-align: right;\">\n",
       "      <th></th>\n",
       "      <th>Unnamed: 0</th>\n",
       "      <th>CAPTURA</th>\n",
       "      <th>FUENTE</th>\n",
       "      <th>ORIGEN</th>\n",
       "      <th>DESTINO</th>\n",
       "      <th>SALIDA_IDA</th>\n",
       "      <th>LLEGADA_IDA</th>\n",
       "      <th>SALIDA_VUELTA</th>\n",
       "      <th>LLEGADA_VUELTA</th>\n",
       "      <th>PRECIO</th>\n",
       "      <th>...</th>\n",
       "      <th>AEROLINEA</th>\n",
       "      <th>fecha_salida_ida</th>\n",
       "      <th>hora_salida_ida</th>\n",
       "      <th>fecha_llegada_ida</th>\n",
       "      <th>hora_llegada_ida</th>\n",
       "      <th>fecha_salida_vuelta</th>\n",
       "      <th>hora_salida_vuelta</th>\n",
       "      <th>fecha_llegada_vuelta</th>\n",
       "      <th>hora_llegada_vuelta</th>\n",
       "      <th>dia_semana</th>\n",
       "    </tr>\n",
       "  </thead>\n",
       "  <tbody>\n",
       "    <tr>\n",
       "      <th>0</th>\n",
       "      <td>0</td>\n",
       "      <td>2020-09-09</td>\n",
       "      <td>Ryanair</td>\n",
       "      <td>BCN</td>\n",
       "      <td>AGP</td>\n",
       "      <td>2020-10-01 09:25</td>\n",
       "      <td>2020-10-01 11:20</td>\n",
       "      <td>2020-10-08 07:15</td>\n",
       "      <td>2020-10-08 08:50</td>\n",
       "      <td>29.98</td>\n",
       "      <td>...</td>\n",
       "      <td>Ryanair</td>\n",
       "      <td>2020-10-01</td>\n",
       "      <td>09:25</td>\n",
       "      <td>2020-10-01</td>\n",
       "      <td>11:20</td>\n",
       "      <td>2020-10-08</td>\n",
       "      <td>07:15</td>\n",
       "      <td>2020-10-08</td>\n",
       "      <td>08:50</td>\n",
       "      <td>3</td>\n",
       "    </tr>\n",
       "    <tr>\n",
       "      <th>1</th>\n",
       "      <td>1</td>\n",
       "      <td>2020-09-09</td>\n",
       "      <td>Ryanair</td>\n",
       "      <td>BCN</td>\n",
       "      <td>BGY</td>\n",
       "      <td>2020-10-01 20:15</td>\n",
       "      <td>2020-10-01 22:00</td>\n",
       "      <td>2020-10-08 22:25</td>\n",
       "      <td>2020-10-08 23:59</td>\n",
       "      <td>25.98</td>\n",
       "      <td>...</td>\n",
       "      <td>Ryanair</td>\n",
       "      <td>2020-10-01</td>\n",
       "      <td>20:15</td>\n",
       "      <td>2020-10-01</td>\n",
       "      <td>22:00</td>\n",
       "      <td>2020-10-08</td>\n",
       "      <td>22:25</td>\n",
       "      <td>2020-10-08</td>\n",
       "      <td>23:59</td>\n",
       "      <td>3</td>\n",
       "    </tr>\n",
       "    <tr>\n",
       "      <th>2</th>\n",
       "      <td>2</td>\n",
       "      <td>2020-09-09</td>\n",
       "      <td>Ryanair</td>\n",
       "      <td>BCN</td>\n",
       "      <td>BHX</td>\n",
       "      <td>2020-10-01 12:40</td>\n",
       "      <td>2020-10-01 14:10</td>\n",
       "      <td>2020-10-08 14:35</td>\n",
       "      <td>2020-10-08 17:45</td>\n",
       "      <td>29.61</td>\n",
       "      <td>...</td>\n",
       "      <td>Ryanair</td>\n",
       "      <td>2020-10-01</td>\n",
       "      <td>12:40</td>\n",
       "      <td>2020-10-01</td>\n",
       "      <td>14:10</td>\n",
       "      <td>2020-10-08</td>\n",
       "      <td>14:35</td>\n",
       "      <td>2020-10-08</td>\n",
       "      <td>17:45</td>\n",
       "      <td>3</td>\n",
       "    </tr>\n",
       "    <tr>\n",
       "      <th>3</th>\n",
       "      <td>3</td>\n",
       "      <td>2020-09-09</td>\n",
       "      <td>Ryanair</td>\n",
       "      <td>BCN</td>\n",
       "      <td>BRU</td>\n",
       "      <td>2020-10-01 06:05</td>\n",
       "      <td>2020-10-01 08:20</td>\n",
       "      <td>2020-10-08 08:55</td>\n",
       "      <td>2020-10-08 11:00</td>\n",
       "      <td>30.24</td>\n",
       "      <td>...</td>\n",
       "      <td>Ryanair</td>\n",
       "      <td>2020-10-01</td>\n",
       "      <td>06:05</td>\n",
       "      <td>2020-10-01</td>\n",
       "      <td>08:20</td>\n",
       "      <td>2020-10-08</td>\n",
       "      <td>08:55</td>\n",
       "      <td>2020-10-08</td>\n",
       "      <td>11:00</td>\n",
       "      <td>3</td>\n",
       "    </tr>\n",
       "    <tr>\n",
       "      <th>4</th>\n",
       "      <td>4</td>\n",
       "      <td>2020-09-09</td>\n",
       "      <td>Ryanair</td>\n",
       "      <td>BCN</td>\n",
       "      <td>BUD</td>\n",
       "      <td>2020-10-01 17:00</td>\n",
       "      <td>2020-10-01 19:40</td>\n",
       "      <td>2020-10-08 20:05</td>\n",
       "      <td>2020-10-08 22:40</td>\n",
       "      <td>31.24</td>\n",
       "      <td>...</td>\n",
       "      <td>Ryanair</td>\n",
       "      <td>2020-10-01</td>\n",
       "      <td>17:00</td>\n",
       "      <td>2020-10-01</td>\n",
       "      <td>19:40</td>\n",
       "      <td>2020-10-08</td>\n",
       "      <td>20:05</td>\n",
       "      <td>2020-10-08</td>\n",
       "      <td>22:40</td>\n",
       "      <td>3</td>\n",
       "    </tr>\n",
       "  </tbody>\n",
       "</table>\n",
       "<p>5 rows × 21 columns</p>\n",
       "</div>"
      ],
      "text/plain": [
       "   Unnamed: 0     CAPTURA   FUENTE ORIGEN DESTINO        SALIDA_IDA  \\\n",
       "0           0  2020-09-09  Ryanair    BCN     AGP  2020-10-01 09:25   \n",
       "1           1  2020-09-09  Ryanair    BCN     BGY  2020-10-01 20:15   \n",
       "2           2  2020-09-09  Ryanair    BCN     BHX  2020-10-01 12:40   \n",
       "3           3  2020-09-09  Ryanair    BCN     BRU  2020-10-01 06:05   \n",
       "4           4  2020-09-09  Ryanair    BCN     BUD  2020-10-01 17:00   \n",
       "\n",
       "        LLEGADA_IDA     SALIDA_VUELTA    LLEGADA_VUELTA  PRECIO  ...  \\\n",
       "0  2020-10-01 11:20  2020-10-08 07:15  2020-10-08 08:50   29.98  ...   \n",
       "1  2020-10-01 22:00  2020-10-08 22:25  2020-10-08 23:59   25.98  ...   \n",
       "2  2020-10-01 14:10  2020-10-08 14:35  2020-10-08 17:45   29.61  ...   \n",
       "3  2020-10-01 08:20  2020-10-08 08:55  2020-10-08 11:00   30.24  ...   \n",
       "4  2020-10-01 19:40  2020-10-08 20:05  2020-10-08 22:40   31.24  ...   \n",
       "\n",
       "  AEROLINEA fecha_salida_ida hora_salida_ida fecha_llegada_ida  \\\n",
       "0   Ryanair       2020-10-01           09:25        2020-10-01   \n",
       "1   Ryanair       2020-10-01           20:15        2020-10-01   \n",
       "2   Ryanair       2020-10-01           12:40        2020-10-01   \n",
       "3   Ryanair       2020-10-01           06:05        2020-10-01   \n",
       "4   Ryanair       2020-10-01           17:00        2020-10-01   \n",
       "\n",
       "  hora_llegada_ida fecha_salida_vuelta hora_salida_vuelta  \\\n",
       "0            11:20          2020-10-08              07:15   \n",
       "1            22:00          2020-10-08              22:25   \n",
       "2            14:10          2020-10-08              14:35   \n",
       "3            08:20          2020-10-08              08:55   \n",
       "4            19:40          2020-10-08              20:05   \n",
       "\n",
       "  fecha_llegada_vuelta hora_llegada_vuelta dia_semana  \n",
       "0           2020-10-08               08:50          3  \n",
       "1           2020-10-08               23:59          3  \n",
       "2           2020-10-08               17:45          3  \n",
       "3           2020-10-08               11:00          3  \n",
       "4           2020-10-08               22:40          3  \n",
       "\n",
       "[5 rows x 21 columns]"
      ]
     },
     "execution_count": 8,
     "metadata": {},
     "output_type": "execute_result"
    }
   ],
   "source": [
    "print(df.shape)\n",
    "df.drop_duplicates(keep='first', inplace=True)\n",
    "print(df.shape)\n",
    "df.head()"
   ]
  },
  {
   "cell_type": "markdown",
   "metadata": {},
   "source": [
    "Como se puede comprobar han sido eliminados todos los valores duplicados."
   ]
  },
  {
   "cell_type": "markdown",
   "metadata": {},
   "source": [
    "**Comprobación de la existencia de valores nulos**\n",
    "\n",
    "Se llevará acabo una exploración de aquellos datos nulos que puedan darse en el dataset y caso afirmativo se valorará a posteriori como tratarlos."
   ]
  },
  {
   "cell_type": "code",
   "execution_count": null,
   "metadata": {},
   "outputs": [],
   "source": [
    "df.isnull().sum()"
   ]
  },
  {
   "cell_type": "markdown",
   "metadata": {},
   "source": [
    "Se comprueba la existencia de 33 valores nulos en la columna AEROLINEA."
   ]
  },
  {
   "cell_type": "markdown",
   "metadata": {},
   "source": [
    "**3. LIMPIEZA**"
   ]
  },
  {
   "cell_type": "markdown",
   "metadata": {},
   "source": [
    "Llegados a este punto se puede coprobar que es conveniente elimiar al menos aquellas columnas que ya sabemos que pueden añadir ruido al futuro análisis. En este caso serán las columnas Unnamed: 0 las columnas de fechas que han sido transformadas y la columna URL."
   ]
  },
  {
   "cell_type": "code",
   "execution_count": 9,
   "metadata": {},
   "outputs": [],
   "source": [
    "df.drop(['Unnamed: 0', 'SALIDA_IDA', 'LLEGADA_IDA', 'SALIDA_VUELTA', 'LLEGADA_VUELTA', 'URL'], axis='columns', inplace=True)"
   ]
  },
  {
   "cell_type": "markdown",
   "metadata": {},
   "source": [
    "Se analizan los valores nulos y se deciden eliminar las 33 filas por ser una cifra insignificante comparada con la cantidad de información que se maneja."
   ]
  },
  {
   "cell_type": "code",
   "execution_count": null,
   "metadata": {
    "scrolled": true
   },
   "outputs": [],
   "source": [
    "df[df['AEROLINEA'].isnull()]"
   ]
  },
  {
   "cell_type": "code",
   "execution_count": 10,
   "metadata": {},
   "outputs": [
    {
     "name": "stdout",
     "output_type": "stream",
     "text": [
      "(2484667, 15)\n",
      "(2484634, 15)\n"
     ]
    }
   ],
   "source": [
    "#Función para eliminar filas que contendan al menos un NaN\n",
    "print(df.shape)\n",
    "df.dropna(axis=0, inplace = True) \n",
    "print(df.shape)"
   ]
  },
  {
   "cell_type": "markdown",
   "metadata": {},
   "source": [
    "**4. ENRIQUECIMIENTO DEL DATASET**"
   ]
  },
  {
   "cell_type": "markdown",
   "metadata": {},
   "source": [
    "**5. EXPORTACIÓN DE LOS DATOS**"
   ]
  },
  {
   "cell_type": "markdown",
   "metadata": {},
   "source": [
    "Finalmente los datos serán exportados en un csv con el nombre de data_vuelos_completo.csv a la carpeta data que se encuentra en el repositorio del proyecto. Ruta relativa \"../../data\"."
   ]
  },
  {
   "cell_type": "code",
   "execution_count": 11,
   "metadata": {},
   "outputs": [],
   "source": [
    "df.to_csv(\"../../data/data_vuelos_completo_app.csv\", index=False)"
   ]
  },
  {
   "cell_type": "code",
   "execution_count": null,
   "metadata": {},
   "outputs": [],
   "source": []
  }
 ],
 "metadata": {
  "kernelspec": {
   "display_name": "Python 3",
   "language": "python",
   "name": "python3"
  },
  "language_info": {
   "codemirror_mode": {
    "name": "ipython",
    "version": 3
   },
   "file_extension": ".py",
   "mimetype": "text/x-python",
   "name": "python",
   "nbconvert_exporter": "python",
   "pygments_lexer": "ipython3",
   "version": "3.7.7"
  }
 },
 "nbformat": 4,
 "nbformat_minor": 4
}
